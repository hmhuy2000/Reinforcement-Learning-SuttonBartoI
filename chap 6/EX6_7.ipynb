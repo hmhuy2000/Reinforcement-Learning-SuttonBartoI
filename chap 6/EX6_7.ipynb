{
 "cells": [
  {
   "cell_type": "code",
   "execution_count": 1,
   "metadata": {},
   "outputs": [],
   "source": [
    "\n",
    "import numpy as np \n",
    "import matplotlib.pyplot as plt\n",
    "from tqdm import tqdm, trange\n",
    "import seaborn as sns\n",
    "import random\n"
   ]
  },
  {
   "cell_type": "code",
   "execution_count": 2,
   "metadata": {},
   "outputs": [],
   "source": [
    "class CFG:\n",
    "    action_Left = -1\n",
    "    action_Right = 1\n",
    "    state_Left = 0\n",
    "    state_Right = 3\n",
    "    actions = [[],np.arange(10),[action_Left, action_Right],[]]\n",
    "    epsilon = 0.1\n",
    "    episode = 300\n",
    "    alpha = 0.1\n",
    "    garma = 1.0\n",
    "    n_run = 10000"
   ]
  },
  {
   "cell_type": "code",
   "execution_count": 3,
   "metadata": {},
   "outputs": [],
   "source": [
    "def QLearning(Q):\n",
    "    res = np.zeros((CFG.episode))\n",
    "    for ep in range(CFG.episode):\n",
    "        cur = 2\n",
    "        while(cur != CFG.state_Left and cur!= CFG.state_Right):\n",
    "            if (cur == 1):\n",
    "                if (np.random.random()<CFG.epsilon):\n",
    "                    action = np.random.choice(range(10))\n",
    "                else:\n",
    "                    action = np.random.choice([action_ for action_, value_ in enumerate(Q[cur]) if value_ == np.max(Q[cur])])\n",
    "                Next = 0\n",
    "                reward = np.random.normal(-0.1, 1)\n",
    "                target = np.max(Q[Next])\n",
    "                Q[cur][action] += CFG.alpha * (reward + CFG.garma * target - Q[cur][action])\n",
    "                break\n",
    "                    \n",
    "            if (np.random.random()<CFG.epsilon):\n",
    "                action = np.random.choice(range(2))\n",
    "            else:\n",
    "                action = np.random.choice([action_ for action_, value_ in enumerate(Q[cur]) if value_ == np.max(Q[cur])])\n",
    "            Next = cur + CFG.actions[cur][action]\n",
    "            reward = 0\n",
    "#             print(Next)\n",
    "            target = np.max(Q[Next])\n",
    "            if (cur == 2 and CFG.actions[cur][action] == CFG.action_Left):\n",
    "                res[ep] += 1\n",
    "            Q[cur][action] += CFG.alpha * (reward + CFG.garma * target - Q[cur][action])\n",
    "            cur = Next\n",
    "    return res"
   ]
  },
  {
   "cell_type": "code",
   "execution_count": 4,
   "metadata": {},
   "outputs": [],
   "source": [
    "def DoubleQLearning(Q1, Q2):\n",
    "    res = np.zeros((CFG.episode))\n",
    "    for ep in range(CFG.episode):\n",
    "        cur = 2\n",
    "        while(cur != CFG.state_Left and cur!= CFG.state_Right):\n",
    "            if (cur == 1):\n",
    "                if (np.random.random()<CFG.epsilon):\n",
    "                    action = np.random.choice(range(10))\n",
    "                else:\n",
    "                    action1 = np.random.choice([action_ for action_, value_ in enumerate(Q1[cur]) if value_ == np.max(Q1[cur])])\n",
    "                    action2 = np.random.choice([action_ for action_, value_ in enumerate(Q2[cur]) if value_ == np.max(Q2[cur])])\n",
    "                    action = np.random.choice([action1, action2])\n",
    "                Next = 0\n",
    "                reward = np.random.normal(-0.1, 1)\n",
    "                \n",
    "                if np.random.binomial(1, 0.5) == 1:\n",
    "                    UQ = Q1\n",
    "                    TQ = Q2\n",
    "                else:\n",
    "                    UQ = Q2\n",
    "                    TQ = Q1\n",
    "                target = TQ[Next][np.argmax(UQ[Next])]\n",
    "                UQ[cur][action] += CFG.alpha * (reward + CFG.garma * target - UQ[cur][action])\n",
    "                break\n",
    "           # --------------------------------------------------------------\n",
    "            if (np.random.random()<CFG.epsilon):\n",
    "                action = np.random.choice(range(2))\n",
    "            else:\n",
    "                action1 = np.random.choice([action_ for action_, value_ in enumerate(Q1[cur]) if value_ == np.max(Q1[cur])])\n",
    "                action2 = np.random.choice([action_ for action_, value_ in enumerate(Q2[cur]) if value_ == np.max(Q2[cur])])\n",
    "                action = np.random.choice([action1,action2])\n",
    "                \n",
    "            Next = cur + CFG.actions[cur][action]\n",
    "            reward = 0\n",
    "            if (cur == 2 and CFG.actions[cur][action] == CFG.action_Left):\n",
    "                res[ep] += 1\n",
    "            \n",
    "            if np.random.binomial(1, 0.5) == 1:\n",
    "                UQ = Q1\n",
    "                TQ = Q2\n",
    "            else:\n",
    "                UQ = Q2\n",
    "                TQ = Q1\n",
    "            target = TQ[Next][np.argmax(UQ[Next])]\n",
    "            UQ[cur][action] += CFG.alpha * (reward + CFG.garma * target - UQ[cur][action])\n",
    "            cur = Next\n",
    "    return res"
   ]
  },
  {
   "cell_type": "code",
   "execution_count": 5,
   "metadata": {},
   "outputs": [
    {
     "name": "stderr",
     "output_type": "stream",
     "text": [
      "100%|██████████| 10000/10000 [08:34<00:00, 19.43it/s]\n"
     ]
    }
   ],
   "source": [
    "res_QLearning = np.zeros((CFG.episode), dtype = float)\n",
    "res_DoubleQLearning = np.zeros((CFG.episode), dtype = float)\n",
    "for r in trange(CFG.n_run):\n",
    "    Q_QLearning = [np.zeros((1)),np.zeros((10)),np.zeros((2)),np.zeros((1))]\n",
    "    Q_DoubleQLearning_1 = [np.zeros((1)),np.zeros((10)),np.zeros((2)),np.zeros((1))]\n",
    "    Q_DoubleQLearning_2 = [np.zeros((1)),np.zeros((10)),np.zeros((2)),np.zeros((1))]\n",
    "    res_QLearning += QLearning(Q_QLearning)\n",
    "    res_DoubleQLearning += DoubleQLearning(Q_DoubleQLearning_1, Q_DoubleQLearning_2)\n",
    "res_QLearning /= CFG.n_run\n",
    "res_DoubleQLearning /= CFG.n_run"
   ]
  },
  {
   "cell_type": "code",
   "execution_count": 6,
   "metadata": {},
   "outputs": [
    {
     "data": {
      "image/png": "[encoded data removed]",
      "text/plain": [
       "<Figure size 432x288 with 1 Axes>"
      ]
     },
     "metadata": {
      "needs_background": "light"
     },
     "output_type": "display_data"
    }
   ],
   "source": [
    "plt.plot(res_QLearning, label = 'QLearning')\n",
    "plt.plot(res_DoubleQLearning, label = 'Double QLearning')\n",
    "plt.plot(np.ones((CFG.episode))*0.05, label = 'Optimal')\n",
    "plt.xlabel('Episodes')\n",
    "plt.ylabel('% left actions from A')\n",
    "plt.legend()\n",
    "plt.savefig('figure_Ex_6_7/figure_Ex_6_7.png')\n",
    "plt.show()"
   ]
  },
  {
   "cell_type": "code",
   "execution_count": null,
   "metadata": {},
   "outputs": [],
   "source": []
  },
  {
   "cell_type": "code",
   "execution_count": null,
   "metadata": {},
   "outputs": [],
   "source": []
  }
 ],
 "metadata": {
  "kernelspec": {
   "display_name": "Python 3",
   "language": "python",
   "name": "python3"
  },
  "language_info": {
   "codemirror_mode": {
    "name": "ipython",
    "version": 3
   },
   "file_extension": ".py",
   "mimetype": "text/x-python",
   "name": "python",
   "nbconvert_exporter": "python",
   "pygments_lexer": "ipython3",
   "version": "3.9.1"
  }
 },
 "nbformat": 4,
 "nbformat_minor": 4
}
