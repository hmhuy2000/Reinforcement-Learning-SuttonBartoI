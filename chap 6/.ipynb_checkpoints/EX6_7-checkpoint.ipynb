{
 "cells": [
  {
   "cell_type": "code",
   "execution_count": 1,
   "metadata": {},
   "outputs": [],
   "source": [
    "\n",
    "import numpy as np \n",
    "import matplotlib.pyplot as plt\n",
    "from tqdm import tqdm, trange\n",
    "import seaborn as sns\n",
    "import random\n"
   ]
  },
  {
   "cell_type": "code",
   "execution_count": 2,
   "metadata": {},
   "outputs": [],
   "source": [
    "class CFG:\n",
    "    action_Left = -1\n",
    "    action_Right = 1\n",
    "    state_Left = 0\n",
    "    state_Right = 2\n",
    "    actions = [action_Left, action_Right]\n",
    "    epsilon = 0.1\n",
    "    episode = 300\n",
    "    alpha = 0.1\n",
    "    garma = 1.0\n",
    "    n_run = 100000"
   ]
  },
  {
   "cell_type": "code",
   "execution_count": 3,
   "metadata": {},
   "outputs": [],
   "source": [
    "def QLearning(Q):\n",
    "    cur = 1\n",
    "    res = 0\n",
    "    while(cur == 1):\n",
    "        if (np.random.random()<CFG.epsilon):\n",
    "            action = np.random.choice(CFG.actions)\n",
    "        else:\n",
    "            action = np.argmax(Q)\n",
    "        Next = cur + action\n",
    "        if (action == CFG.action_Left):\n",
    "            res += 1\n",
    "            reward = np.random.normal(-0.1, 1)\n",
    "        else:\n",
    "            res += 0\n",
    "            reward = 0\n",
    "\n",
    "        Q[cur,action] += CFG.alpha * (reward + CFG.garma * np.max(Q[Next,:]) - Q[cur, action])\n",
    "        cur = Next\n",
    "    return res"
   ]
  },
  {
   "cell_type": "code",
   "execution_count": 4,
   "metadata": {},
   "outputs": [
    {
     "ename": "NameError",
     "evalue": "name 'Q_Qlearning' is not defined",
     "output_type": "error",
     "traceback": [
      "\u001b[1;31m---------------------------------------------------------------------------\u001b[0m",
      "\u001b[1;31mNameError\u001b[0m                                 Traceback (most recent call last)",
      "\u001b[1;32m<ipython-input-4-08f38464b587>\u001b[0m in \u001b[0;36m<module>\u001b[1;34m\u001b[0m\n\u001b[0;32m      5\u001b[0m     \u001b[0mQ_DoubleQLearning_1\u001b[0m \u001b[1;33m=\u001b[0m \u001b[0mnp\u001b[0m\u001b[1;33m.\u001b[0m\u001b[0mzeros\u001b[0m\u001b[1;33m(\u001b[0m\u001b[1;33m(\u001b[0m\u001b[1;36m3\u001b[0m\u001b[1;33m,\u001b[0m\u001b[1;36m2\u001b[0m\u001b[1;33m)\u001b[0m\u001b[1;33m)\u001b[0m\u001b[1;33m\u001b[0m\u001b[1;33m\u001b[0m\u001b[0m\n\u001b[0;32m      6\u001b[0m     \u001b[0mQ_DoubleQLearning_2\u001b[0m \u001b[1;33m=\u001b[0m \u001b[0mnp\u001b[0m\u001b[1;33m.\u001b[0m\u001b[0mzeros\u001b[0m\u001b[1;33m(\u001b[0m\u001b[1;33m(\u001b[0m\u001b[1;36m3\u001b[0m\u001b[1;33m,\u001b[0m\u001b[1;36m2\u001b[0m\u001b[1;33m)\u001b[0m\u001b[1;33m)\u001b[0m\u001b[1;33m\u001b[0m\u001b[1;33m\u001b[0m\u001b[0m\n\u001b[1;32m----> 7\u001b[1;33m     \u001b[0mres_QLearning\u001b[0m \u001b[1;33m+=\u001b[0m \u001b[0mQLearning\u001b[0m\u001b[1;33m(\u001b[0m\u001b[0mQ_Qlearning\u001b[0m\u001b[1;33m)\u001b[0m\u001b[1;33m\u001b[0m\u001b[1;33m\u001b[0m\u001b[0m\n\u001b[0m\u001b[0;32m      8\u001b[0m \u001b[1;31m#     res_DoubleQLearning += DoubleQLearning(Q_DoubleQLearning_1, Q_DoubleQLearning_2)\u001b[0m\u001b[1;33m\u001b[0m\u001b[1;33m\u001b[0m\u001b[1;33m\u001b[0m\u001b[0m\n\u001b[0;32m      9\u001b[0m \u001b[0mres_QLearning\u001b[0m \u001b[1;33m/=\u001b[0m \u001b[0mCFG\u001b[0m\u001b[1;33m.\u001b[0m\u001b[0mn_run\u001b[0m\u001b[1;33m\u001b[0m\u001b[1;33m\u001b[0m\u001b[0m\n",
      "\u001b[1;31mNameError\u001b[0m: name 'Q_Qlearning' is not defined"
     ]
    }
   ],
   "source": [
    "res_QLearning = np.zeros((CFG.episode), dtype = float)\n",
    "res_DoubleQLearning = np.zeros((CFG.episode), dtype = float)\n",
    "for r in range(CFG.n_run):\n",
    "    Q_QLearning = np.zeros((3,2))\n",
    "    Q_DoubleQLearning_1 = np.zeros((3,2))\n",
    "    Q_DoubleQLearning_2 = np.zeros((3,2))\n",
    "    res_QLearning += QLearning(Q_QLearning)\n",
    "#     res_DoubleQLearning += DoubleQLearning(Q_DoubleQLearning_1, Q_DoubleQLearning_2)\n",
    "res_QLearning /= CFG.n_run\n",
    "# res_DoubleQLearning /= CFG.n_run"
   ]
  },
  {
   "cell_type": "code",
   "execution_count": null,
   "metadata": {},
   "outputs": [],
   "source": []
  }
 ],
 "metadata": {
  "kernelspec": {
   "display_name": "Python 3",
   "language": "python",
   "name": "python3"
  },
  "language_info": {
   "codemirror_mode": {
    "name": "ipython",
    "version": 3
   },
   "file_extension": ".py",
   "mimetype": "text/x-python",
   "name": "python",
   "nbconvert_exporter": "python",
   "pygments_lexer": "ipython3",
   "version": "3.8.5"
  }
 },
 "nbformat": 4,
 "nbformat_minor": 4
}
