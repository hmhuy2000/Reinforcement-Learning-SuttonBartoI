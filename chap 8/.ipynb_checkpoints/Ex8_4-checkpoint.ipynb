{
 "cells": [
  {
   "cell_type": "code",
   "execution_count": 1,
   "metadata": {},
   "outputs": [],
   "source": [
    "from queue import PriorityQueue\n",
    "import numpy as np \n",
    "import matplotlib.pyplot as plt\n",
    "from tqdm.notebook import tqdm, trange\n",
    "import seaborn as sns\n",
    "import random\n",
    "from copy import deepcopy"
   ]
  },
  {
   "cell_type": "code",
   "execution_count": 2,
   "metadata": {},
   "outputs": [],
   "source": [
    "class CFG:\n",
    "    height = 6\n",
    "    width = 9\n",
    "    start = (5, 3)\n",
    "    goal  = (0, 8)\n",
    "    action_Up = [-1, 0]\n",
    "    action_Down = [1, 0]\n",
    "    action_Left = [0, -1]\n",
    "    action_Right = [0, 1]\n",
    "    actions = [action_Up, action_Down, action_Left, action_Right]\n",
    "    alpha = 1.0\n",
    "    epsilon = 0.1\n",
    "    n_run = 5\n",
    "    n_plan = 5\n",
    "    garma = 0.95\n",
    "    otc = [(1, 2), (2, 2), (3, 2), (4, 5), (0, 7), (1, 7), (2, 7)]"
   ]
  },
  {
   "cell_type": "code",
   "execution_count": 3,
   "metadata": {},
   "outputs": [],
   "source": [
    "def go(curX, curY, action, height, width, otc):\n",
    "    [tmpX, tmpY] = CFG.actions[action]\n",
    "    nextX = max(0, min(curX + tmpX, height - 1))\n",
    "    nextY = max(0, min(curY + tmpY, width - 1))\n",
    "    if ((nextX, nextY) in otc):\n",
    "        (nextX, nextY) = (curX, curY)\n",
    "    return (nextX, nextY)\n",
    "\n",
    "def step(curX, curY, action,height, width,otc,goal):\n",
    "    (nextX, nextY) = go(curX, curY, action,height,width,otc)\n",
    "    if ((nextX, nextY) == goal):\n",
    "        return ([nextX, nextY], 1, True)\n",
    "#     if ([nextX, nextY] == [curX, curY]):\n",
    "#         return([nextX, nextY], -1, False)\n",
    "    return ([nextX, nextY], 0, False)"
   ]
  },
  {
   "cell_type": "code",
   "execution_count": 4,
   "metadata": {},
   "outputs": [],
   "source": [
    "def check_optimal(Q, height, width, otc, start, goal,rate):\n",
    "    [curX,curY] = start\n",
    "    max_step = 14 * rate * 1.1\n",
    "    Cur = 0\n",
    "    while True:\n",
    "        action = np.argmax(Q[curX,curY,:])\n",
    "        (Nstate, reward, done) = step(curX, curY, action,height, width, otc, goal)\n",
    "        if (done):\n",
    "            return True\n",
    "        [nextX,nextY] = Nstate\n",
    "        (curX, curY) = (nextX, nextY)\n",
    "        Cur += 1\n",
    "        if(Cur > max_step):\n",
    "            return False"
   ]
  },
  {
   "cell_type": "code",
   "execution_count": 5,
   "metadata": {},
   "outputs": [],
   "source": [
    "def dyna_Q(n_plan, alpha = CFG.alpha, n_run = CFG.n_run,height = CFG.height, \n",
    "           width = CFG.width, otc = CFG.otc, start = CFG.start, goal = CFG.goal,\n",
    "          rate = 1.0):\n",
    "    print(f'dynaQ rate = {rate}, alpha = {alpha}, n = {n_plan}')\n",
    "    t_r = trange(n_run, desc = f'dynaQ')\n",
    "    res = 0\n",
    "    for r in t_r:\n",
    "        # Q = np.random.random((CFG.height, CFG.width, 4))\n",
    "        Q = np.zeros(((height,width, 4)))\n",
    "        model = {}\n",
    "        time = 0\n",
    "        while True:\n",
    "            (curX, curY) = start\n",
    "            while(True):\n",
    "                \n",
    "                if (np.random.random()<CFG.epsilon):\n",
    "                    action = np.random.choice(np.arange(4))\n",
    "                else:\n",
    "                    set_actions = Q[curX, curY,:] == np.max(Q[curX, curY, :])\n",
    "                    actions = []\n",
    "                    for i in range(4):\n",
    "                        if (set_actions[i] == 1):\n",
    "                            actions.append(i)\n",
    "                    action = np.random.choice(actions)\n",
    "                \n",
    "                (Nstate, reward, done) = step(curX, curY, action,height, width, otc, goal)\n",
    "                [nextX, nextY] = Nstate\n",
    "                Q[curX, curY, action] += alpha * (reward + CFG.garma * np.max(Q[nextX, nextY, :]) - Q[curX, curY, action])\n",
    "                model[((curX, curY), action)] = ((nextX, nextY), reward)\n",
    "\n",
    "                for _ in range(n_plan):\n",
    "                    idx = np.random.choice(range(len(model.keys())))\n",
    "                    ((tmpX, tmpY), tmp_action) = list(model.keys())[idx]\n",
    "                    ((tmp_NX, tmp_NY), tmp_reward) = model[((tmpX, tmpY), tmp_action)]\n",
    "                    Q[tmpX, tmpY, tmp_action] += alpha * (tmp_reward + CFG.garma * np.max(Q[tmp_NX, tmp_NY, :]) - Q[tmpX, tmpY, tmp_action])\n",
    "                    res += 1\n",
    "                if (done):\n",
    "                    break\n",
    "                (curX, curY) = (nextX, nextY)\n",
    "                time += 1\n",
    "                if(time %1000 == 0):\n",
    "                    t_r.set_description(f'dynaQ res = {res/(r+1):.2f} cur = {time}')\n",
    "            if (check_optimal(Q,height, width, otc,start, goal,rate)):\n",
    "                break\n",
    "        t_r.set_description(f'dynaQ res = {res/(r+1):.2f}')\n",
    "            \n",
    "    return res/n_run\n"
   ]
  },
  {
   "cell_type": "code",
   "execution_count": 6,
   "metadata": {},
   "outputs": [],
   "source": [
    "def dyna_Q_prioty(n_plan, alpha = CFG.alpha, n_run = CFG.n_run,height = CFG.height, \n",
    "           width = CFG.width, otc = CFG.otc, start = CFG.start, goal = CFG.goal,\n",
    "          rate = 1.0,theta = 1e-4):\n",
    "    print(f'dynaQ prioty rate = {rate}, alpha = {alpha}, n = {n_plan}')\n",
    "    t_r = trange(n_run, desc = f'dynaQ')\n",
    "    res = 0\n",
    "    for r in t_r:\n",
    "        # Q = np.random.random((CFG.height, CFG.width, 4))\n",
    "        queue = PriorityQueue()\n",
    "        Q = np.zeros(((height,width, 4)))\n",
    "        model = {}\n",
    "        while True:\n",
    "            (curX, curY) = start\n",
    "            time = 0\n",
    "            while(True):\n",
    "                \n",
    "                if (np.random.random()<CFG.epsilon):\n",
    "                    action = np.random.choice(np.arange(4))\n",
    "                else:\n",
    "                    set_actions = Q[curX, curY,:] == np.max(Q[curX, curY, :])\n",
    "                    actions = []\n",
    "                    for i in range(4):\n",
    "                        if (set_actions[i] == 1):\n",
    "                            actions.append(i)\n",
    "                    action = np.random.choice(actions)\n",
    "                \n",
    "                (Nstate, reward, done) = step(curX, curY, action,height, width, otc, goal)\n",
    "                [nextX, nextY] = Nstate\n",
    "                P = np.abs(reward + CFG.garma * np.max(Q[nextX, nextY, :]) - Q[curX, curY, action])\n",
    "                model[((curX, curY), action)] = ((nextX, nextY), reward)\n",
    "                if(P>theta):\n",
    "                    queue.put((P, ((curX, curY), action)))\n",
    "                for _ in range(n_plan):\n",
    "                    if (queue.empty()):\n",
    "                        break\n",
    "                    (_,((tmpX, tmpY), tmp_action)) = queue.get()\n",
    "                    ((tmp_NX, tmp_NY), tmp_reward) = model[((tmpX, tmpY), tmp_action)]\n",
    "                    Q[tmpX, tmpY, tmp_action] += alpha * (tmp_reward + CFG.garma * np.max(Q[tmp_NX, tmp_NY, :]) - Q[tmpX, tmpY, tmp_action])\n",
    "                    prev = []\n",
    "                    for act in range(4):\n",
    "                        Prevstate = go(tmpX, tmpY, act, height, width, otc)\n",
    "                        if (Prevstate != (tmpX,tmpY)):\n",
    "                            if (act <2):\n",
    "                                aaa = 1 - act\n",
    "                            elif act == 2:\n",
    "                                aaa = 3\n",
    "                            else:\n",
    "                                aaa = 2\n",
    "                            prev.append((Prevstate,aaa))\n",
    "                    for info in prev:\n",
    "                        ((prevX,prevY),prev_action) = info\n",
    "                        prev_reward = 0\n",
    "                        P = np.abs(prev_reward + CFG.garma * np.max(Q[tmpX, tmpY, :]) - Q[prevX, prevY, prev_action])\n",
    "                        if(P>theta):\n",
    "                            queue.put((P,((prevX,prevY),prev_action)))\n",
    "                        if (((prevX,prevY),prev_action) not in model.keys()):\n",
    "                            model[((prevX,prevY),prev_action)] = ((tmpX,tmpY),prev_reward)\n",
    "                    res += 1\n",
    "                if (done):\n",
    "                    break\n",
    "                (curX, curY) = (nextX, nextY)\n",
    "                time += 1\n",
    "                if(time %1000 == 0):\n",
    "                    t_r.set_description(f'dynaQ prioty res = {res/(r+1):.2f} cur = {time}')\n",
    "            if (check_optimal(Q,height, width, otc,start, goal,rate)):\n",
    "                break\n",
    "        t_r.set_description(f'dynaQ prioty res = {res/(r+1):.2f}')\n",
    "            \n",
    "    return res/n_run\n"
   ]
  },
  {
   "cell_type": "code",
   "execution_count": 7,
   "metadata": {},
   "outputs": [],
   "source": [
    "def multiply(states,rate):\n",
    "    res = []\n",
    "    for state in states:\n",
    "        (curX, curY) = state\n",
    "        curX *= rate\n",
    "        curY *= rate\n",
    "        for x in range(rate):\n",
    "            for y in range(rate):\n",
    "                res.append((curX + x, curY + y))\n",
    "    return res"
   ]
  },
  {
   "cell_type": "code",
   "execution_count": 8,
   "metadata": {},
   "outputs": [
    {
     "name": "stdout",
     "output_type": "stream",
     "text": [
      "dynaQ prioty rate = 1, alpha = 0.5, n = 5\n"
     ]
    },
    {
     "data": {
      "application/vnd.jupyter.widget-view+json": {
       "model_id": "c2f78fd27a4c4ffa8778d0aa3f1abc2d",
       "version_major": 2,
       "version_minor": 0
      },
      "text/plain": [
       "HBox(children=(HTML(value='dynaQ'), FloatProgress(value=0.0, max=5.0), HTML(value='')))"
      ]
     },
     "metadata": {},
     "output_type": "display_data"
    },
    {
     "name": "stdout",
     "output_type": "stream",
     "text": [
      "\n",
      "dynaQ rate = 1, alpha = 0.5, n = 5\n"
     ]
    },
    {
     "data": {
      "application/vnd.jupyter.widget-view+json": {
       "model_id": "cd0087ab42c04e558bf01f7ca4189b33",
       "version_major": 2,
       "version_minor": 0
      },
      "text/plain": [
       "HBox(children=(HTML(value='dynaQ'), FloatProgress(value=0.0, max=5.0), HTML(value='')))"
      ]
     },
     "metadata": {},
     "output_type": "display_data"
    },
    {
     "name": "stdout",
     "output_type": "stream",
     "text": [
      "\n",
      "dynaQ prioty rate = 2, alpha = 0.5, n = 5\n"
     ]
    },
    {
     "data": {
      "application/vnd.jupyter.widget-view+json": {
       "model_id": "5f30ba97ea0f4d159e1704b65fe2cb7e",
       "version_major": 2,
       "version_minor": 0
      },
      "text/plain": [
       "HBox(children=(HTML(value='dynaQ'), FloatProgress(value=0.0, max=5.0), HTML(value='')))"
      ]
     },
     "metadata": {},
     "output_type": "display_data"
    },
    {
     "name": "stdout",
     "output_type": "stream",
     "text": [
      "\n",
      "dynaQ rate = 2, alpha = 0.5, n = 5\n"
     ]
    },
    {
     "data": {
      "application/vnd.jupyter.widget-view+json": {
       "model_id": "071f426746b842309ebf96a4fddc4de1",
       "version_major": 2,
       "version_minor": 0
      },
      "text/plain": [
       "HBox(children=(HTML(value='dynaQ'), FloatProgress(value=0.0, max=5.0), HTML(value='')))"
      ]
     },
     "metadata": {},
     "output_type": "display_data"
    },
    {
     "name": "stdout",
     "output_type": "stream",
     "text": [
      "\n",
      "dynaQ prioty rate = 3, alpha = 0.5, n = 5\n"
     ]
    },
    {
     "data": {
      "application/vnd.jupyter.widget-view+json": {
       "model_id": "4df8eb6868c54d7182ec3c9c815331ea",
       "version_major": 2,
       "version_minor": 0
      },
      "text/plain": [
       "HBox(children=(HTML(value='dynaQ'), FloatProgress(value=0.0, max=5.0), HTML(value='')))"
      ]
     },
     "metadata": {},
     "output_type": "display_data"
    },
    {
     "name": "stdout",
     "output_type": "stream",
     "text": [
      "\n",
      "dynaQ rate = 3, alpha = 0.5, n = 5\n"
     ]
    },
    {
     "data": {
      "application/vnd.jupyter.widget-view+json": {
       "model_id": "025ab6b36c6145ca84c60e645ebf9828",
       "version_major": 2,
       "version_minor": 0
      },
      "text/plain": [
       "HBox(children=(HTML(value='dynaQ'), FloatProgress(value=0.0, max=5.0), HTML(value='')))"
      ]
     },
     "metadata": {},
     "output_type": "display_data"
    },
    {
     "name": "stdout",
     "output_type": "stream",
     "text": [
      "\n",
      "dynaQ prioty rate = 4, alpha = 0.5, n = 5\n"
     ]
    },
    {
     "data": {
      "application/vnd.jupyter.widget-view+json": {
       "model_id": "9131b5a9f7204d4997c94da07f420f48",
       "version_major": 2,
       "version_minor": 0
      },
      "text/plain": [
       "HBox(children=(HTML(value='dynaQ'), FloatProgress(value=0.0, max=5.0), HTML(value='')))"
      ]
     },
     "metadata": {},
     "output_type": "display_data"
    },
    {
     "name": "stdout",
     "output_type": "stream",
     "text": [
      "\n",
      "dynaQ rate = 4, alpha = 0.5, n = 5\n"
     ]
    },
    {
     "data": {
      "application/vnd.jupyter.widget-view+json": {
       "model_id": "f19d67d6540d4b158b5a5b8705f8891d",
       "version_major": 2,
       "version_minor": 0
      },
      "text/plain": [
       "HBox(children=(HTML(value='dynaQ'), FloatProgress(value=0.0, max=5.0), HTML(value='')))"
      ]
     },
     "metadata": {},
     "output_type": "display_data"
    },
    {
     "name": "stdout",
     "output_type": "stream",
     "text": [
      "\n",
      "dynaQ prioty rate = 5, alpha = 0.5, n = 5\n"
     ]
    },
    {
     "data": {
      "application/vnd.jupyter.widget-view+json": {
       "model_id": "a6fbc387f35344ed93f6b343fefd728f",
       "version_major": 2,
       "version_minor": 0
      },
      "text/plain": [
       "HBox(children=(HTML(value='dynaQ'), FloatProgress(value=0.0, max=5.0), HTML(value='')))"
      ]
     },
     "metadata": {},
     "output_type": "display_data"
    },
    {
     "name": "stdout",
     "output_type": "stream",
     "text": [
      "\n",
      "dynaQ rate = 5, alpha = 0.5, n = 5\n"
     ]
    },
    {
     "data": {
      "application/vnd.jupyter.widget-view+json": {
       "model_id": "06709515075942e89fc39231d735b010",
       "version_major": 2,
       "version_minor": 0
      },
      "text/plain": [
       "HBox(children=(HTML(value='dynaQ'), FloatProgress(value=0.0, max=5.0), HTML(value='')))"
      ]
     },
     "metadata": {},
     "output_type": "display_data"
    },
    {
     "name": "stdout",
     "output_type": "stream",
     "text": [
      "\n",
      "dynaQ prioty rate = 6, alpha = 0.5, n = 5\n"
     ]
    },
    {
     "data": {
      "application/vnd.jupyter.widget-view+json": {
       "model_id": "fb3558a35ee94f5cb2e167f660d587b3",
       "version_major": 2,
       "version_minor": 0
      },
      "text/plain": [
       "HBox(children=(HTML(value='dynaQ'), FloatProgress(value=0.0, max=5.0), HTML(value='')))"
      ]
     },
     "metadata": {},
     "output_type": "display_data"
    },
    {
     "name": "stdout",
     "output_type": "stream",
     "text": [
      "\n",
      "dynaQ rate = 6, alpha = 0.5, n = 5\n"
     ]
    },
    {
     "data": {
      "application/vnd.jupyter.widget-view+json": {
       "model_id": "8e07b9e5fdff4c7193f8bba116e4162d",
       "version_major": 2,
       "version_minor": 0
      },
      "text/plain": [
       "HBox(children=(HTML(value='dynaQ'), FloatProgress(value=0.0, max=5.0), HTML(value='')))"
      ]
     },
     "metadata": {},
     "output_type": "display_data"
    },
    {
     "name": "stdout",
     "output_type": "stream",
     "text": [
      "\n"
     ]
    }
   ],
   "source": [
    "res_prioty = []\n",
    "res_normal = []\n",
    "rates = np.arange(1,7)\n",
    "\n",
    "for rate in rates:\n",
    "    res_prioty.append(dyna_Q_prioty(n_plan = 5, alpha = 0.5,height = CFG.height * rate , width = CFG.width * rate,\n",
    "             otc = multiply(CFG.otc,rate), start = multiply([CFG.start],rate)[(rate*rate)//2], goal = (0,CFG.width * rate - 1),rate = rate))\n",
    "    res_normal.append(dyna_Q(n_plan = 5, alpha = 0.5,height = CFG.height * rate , width = CFG.width * rate,\n",
    "             otc = multiply(CFG.otc,rate), start = multiply([CFG.start],rate)[(rate*rate)//2], goal = (0,CFG.width * rate - 1),rate = rate))\n",
    "\n"
   ]
  },
  {
   "cell_type": "code",
   "execution_count": 9,
   "metadata": {},
   "outputs": [
    {
     "data": {
      "image/png": "[encoded data removed]",
      "text/plain": [
       "<Figure size 432x288 with 1 Axes>"
      ]
     },
     "metadata": {
      "needs_background": "light"
     },
     "output_type": "display_data"
    }
   ],
   "source": [
    "plt.plot(res_prioty,label = 'Prioritized sweeping')\n",
    "plt.plot(res_normal,label = 'Dyna-Q')\n",
    "plt.xlabel('maze resolution factor')\n",
    "plt.ylabel('Updates until optimal solution')\n",
    "plt.xticks(np.arange(len(rates)),rates*rates*CFG.height *CFG.width)\n",
    "plt.yscale('log')\n",
    "plt.legend()\n",
    "plt.savefig('Ex8_4/figure_Ex8_4.png')\n",
    "plt.show()"
   ]
  },
  {
   "cell_type": "code",
   "execution_count": null,
   "metadata": {},
   "outputs": [],
   "source": []
  }
 ],
 "metadata": {
  "kernelspec": {
   "display_name": "Python 3",
   "language": "python",
   "name": "python3"
  },
  "language_info": {
   "codemirror_mode": {
    "name": "ipython",
    "version": 3
   },
   "file_extension": ".py",
   "mimetype": "text/x-python",
   "name": "python",
   "nbconvert_exporter": "python",
   "pygments_lexer": "ipython3",
   "version": "3.8.5"
  }
 },
 "nbformat": 4,
 "nbformat_minor": 4
}
