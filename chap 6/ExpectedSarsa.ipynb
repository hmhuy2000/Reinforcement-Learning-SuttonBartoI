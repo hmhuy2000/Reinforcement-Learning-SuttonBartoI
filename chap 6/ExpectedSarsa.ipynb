{
 "cells": [
  {
   "cell_type": "code",
   "execution_count": 1,
   "metadata": {
    "id": "cZtk3CfOTFtP"
   },
   "outputs": [],
   "source": [
    "# ========================= import ===================================\n",
    "\n",
    "import numpy as np \n",
    "import matplotlib.pyplot as plt\n",
    "from tqdm.notebook import tqdm, trange\n",
    "import seaborn as sns\n",
    "import random\n",
    "\n",
    "# ======================== CFG ======================================\n",
    "\n",
    "class CFG:\n",
    "    height = 4\n",
    "    width = 12\n",
    "    start = [3, 0]\n",
    "    goal = [3, 11]\n",
    "    action_Up = [-1, 0]\n",
    "    action_Down = [1, 0]\n",
    "    action_Left = [0, -1]\n",
    "    action_Right = [0, 1]\n",
    "    actions = [action_Up, action_Down, action_Left, action_Right]\n",
    "    epsilon = 0.1\n",
    "    episode = 500\n",
    "    alpha = [0.1, 0.2, 0.3, 0.4, 0.5, 0.6, 0.7, 0.8, 0.9, 1.0]\n",
    "    runs = 10\n",
    "    garma = 1.0\n",
    "    \n",
    "# ========================= init =======================================\n",
    "\n",
    "\n",
    "\n",
    "# ========================= function ===================================\n",
    "\n",
    "def step(state, action):\n",
    "    [curX, curY] = state\n",
    "    newX = curX + action[0]\n",
    "    newY = curY + action[1] \n",
    "    newX = min(max(0, newX), CFG.height - 1)\n",
    "    newY = min(max(0, newY), CFG.width  -1)\n",
    "    if (newX == CFG.height -1 and 0 < newY < CFG.width -1):\n",
    "        return CFG.start,-100\n",
    "    return [newX, newY], -1\n",
    "\n",
    "def Qlearning(Q, alpha):\n",
    "    [curX,curY] = CFG.start\n",
    "    total = 0\n",
    "    \n",
    "    while([curX, curY] != CFG.goal):\n",
    "        if (np.random.random()<CFG.epsilon):\n",
    "            action = np.random.choice(np.arange(4))\n",
    "        else:\n",
    "            action = np.argmax(Q[curX, curY, :])\n",
    "\n",
    "        [nextX, nextY], reward = step([curX, curY], CFG.actions[action])\n",
    "        total += reward\n",
    "        Q[curX, curY, action] += alpha * (reward + CFG.garma * np.max(Q[nextX, nextY, :]) - Q[curX, curY, action]) \n",
    "        curX = nextX\n",
    "        curY = nextY\n",
    "    return total\n",
    "\n",
    "def Sarsa(Q, alpha):\n",
    "    [curX,curY] = CFG.start\n",
    "    total = 0\n",
    "    if (np.random.random()<CFG.epsilon):\n",
    "        action = np.random.choice(np.arange(4))\n",
    "    else:\n",
    "        action = np.argmax(Q[curX, curY, :])\n",
    "    \n",
    "    while([curX, curY] != CFG.goal):\n",
    "        #print(curX, curY)\n",
    "        [nextX, nextY], reward = step([curX, curY], CFG.actions[action])\n",
    "        total += reward\n",
    "        if (np.random.random()<CFG.epsilon):\n",
    "            Next_action = np.random.choice(np.arange(4))\n",
    "        else:\n",
    "            Next_action = np.argmax(Q[nextX, nextY, :])\n",
    "\n",
    "        Q[curX, curY, action] += alpha * (reward + CFG.garma * Q[nextX, nextY, Next_action] - Q[curX, curY, action]) \n",
    "        curX = nextX\n",
    "        curY = nextY\n",
    "        action = Next_action\n",
    "    return total\n",
    "\n",
    "\n",
    "def ExpectedSarsa(Q,alpha):\n",
    "    [curX,curY] = CFG.start\n",
    "    total = 0\n",
    "    if (np.random.random()<CFG.epsilon):\n",
    "        action = np.random.choice(np.arange(4))\n",
    "    else:\n",
    "        action = np.argmax(Q[curX, curY, :])\n",
    "    \n",
    "    while([curX, curY] != CFG.goal):\n",
    "#         for i in range(CFG.height):\n",
    "#             a = []\n",
    "#             for j in range(CFG.width):\n",
    "#                 a.append(list(Q[i,j,:]))\n",
    "#             print(a)\n",
    "#         print(curX, curY, Q[curX, curY, :], action)\n",
    "        [nextX, nextY], reward = step([curX, curY], CFG.actions[action])\n",
    "        total += reward\n",
    "        if (np.random.random()<CFG.epsilon):\n",
    "            Next_action = np.random.choice(np.arange(4))\n",
    "        else:\n",
    "            Next_action =np.random.choice([action_ for action_, value_ in enumerate(Q[nextX, nextY, :]) if value_ == np.max(Q[nextX, nextY, :])])\n",
    "        \n",
    "        target = 0.0\n",
    "        max_action = np.argmax(Q[nextX, nextY, :])\n",
    "        for tmp_action in range(len(CFG.actions)):\n",
    "            if (tmp_action == max_action):\n",
    "                target += ((1.0 - CFG.epsilon) + CFG.epsilon/len(CFG.actions)) * Q[nextX, nextY, tmp_action]\n",
    "            else:\n",
    "                target += (CFG.epsilon/len(CFG.actions)) * Q[nextX, nextY, tmp_action]\n",
    "        \n",
    "        Q[curX, curY, action] += alpha * (reward + CFG.garma * target - Q[curX, curY, action]) \n",
    "        curX = nextX\n",
    "        curY = nextY\n",
    "        action = Next_action\n",
    "    return total"
   ]
  },
  {
   "cell_type": "code",
   "execution_count": 2,
   "metadata": {
    "colab": {
     "base_uri": "https://localhost:8080/",
     "height": 336,
     "referenced_widgets": [
      "2ac72ed543cd453a8733d872ab24e2e4",
      "ef6b3cbc71424fe6a2d2e2c48242b92d",
      "12878d27e673473fb3cb1ef6abff3428",
      "1bcc2dbf62ed49e4890de3028852fac8",
      "416ba61de06c4628af34adb2f7cf4d60",
      "6da263113d64427cb90f843d3a81136f",
      "17a9d8bffb6e492c98cfddf9e79ec142",
      "e53b1b9f42a545879df39f6820cbf4bd"
     ]
    },
    "id": "WyrKm80JTFtX",
    "outputId": "bd5313e7-bcfd-43a4-9cb4-12a8ab42b2c8",
    "scrolled": false
   },
   "outputs": [
    {
     "name": "stdout",
     "output_type": "stream",
     "text": [
      "alpha = 0.1\n"
     ]
    },
    {
     "data": {
      "application/vnd.jupyter.widget-view+json": {
       "model_id": "89dc33575e0f401e97bb83f577cd8b7a",
       "version_major": 2,
       "version_minor": 0
      },
      "text/plain": [
       "HBox(children=(HTML(value=''), FloatProgress(value=0.0, max=10.0), HTML(value='')))"
      ]
     },
     "metadata": {},
     "output_type": "display_data"
    },
    {
     "name": "stdout",
     "output_type": "stream",
     "text": [
      "\n",
      "alpha = 0.2\n"
     ]
    },
    {
     "data": {
      "application/vnd.jupyter.widget-view+json": {
       "model_id": "3cbfd3ee9d6743bfbca8f72f57213d0d",
       "version_major": 2,
       "version_minor": 0
      },
      "text/plain": [
       "HBox(children=(HTML(value=''), FloatProgress(value=0.0, max=10.0), HTML(value='')))"
      ]
     },
     "metadata": {},
     "output_type": "display_data"
    },
    {
     "name": "stdout",
     "output_type": "stream",
     "text": [
      "\n",
      "alpha = 0.3\n"
     ]
    },
    {
     "data": {
      "application/vnd.jupyter.widget-view+json": {
       "model_id": "9ce61972dcb947fba2df2e9b5b4f6e75",
       "version_major": 2,
       "version_minor": 0
      },
      "text/plain": [
       "HBox(children=(HTML(value=''), FloatProgress(value=0.0, max=10.0), HTML(value='')))"
      ]
     },
     "metadata": {},
     "output_type": "display_data"
    },
    {
     "name": "stdout",
     "output_type": "stream",
     "text": [
      "\n",
      "alpha = 0.4\n"
     ]
    },
    {
     "data": {
      "application/vnd.jupyter.widget-view+json": {
       "model_id": "7b10783a38d342a2b902adfc35205545",
       "version_major": 2,
       "version_minor": 0
      },
      "text/plain": [
       "HBox(children=(HTML(value=''), FloatProgress(value=0.0, max=10.0), HTML(value='')))"
      ]
     },
     "metadata": {},
     "output_type": "display_data"
    },
    {
     "name": "stdout",
     "output_type": "stream",
     "text": [
      "\n",
      "alpha = 0.5\n"
     ]
    },
    {
     "data": {
      "application/vnd.jupyter.widget-view+json": {
       "model_id": "bd30d4bddad0431e91c6ac0bf528c877",
       "version_major": 2,
       "version_minor": 0
      },
      "text/plain": [
       "HBox(children=(HTML(value=''), FloatProgress(value=0.0, max=10.0), HTML(value='')))"
      ]
     },
     "metadata": {},
     "output_type": "display_data"
    },
    {
     "name": "stdout",
     "output_type": "stream",
     "text": [
      "\n",
      "alpha = 0.6\n"
     ]
    },
    {
     "data": {
      "application/vnd.jupyter.widget-view+json": {
       "model_id": "076335eb76c0498ab1effa843266f1b7",
       "version_major": 2,
       "version_minor": 0
      },
      "text/plain": [
       "HBox(children=(HTML(value=''), FloatProgress(value=0.0, max=10.0), HTML(value='')))"
      ]
     },
     "metadata": {},
     "output_type": "display_data"
    },
    {
     "name": "stdout",
     "output_type": "stream",
     "text": [
      "\n",
      "alpha = 0.7\n"
     ]
    },
    {
     "data": {
      "application/vnd.jupyter.widget-view+json": {
       "model_id": "6981ae515aff4350b7e3f23ebdb2cf41",
       "version_major": 2,
       "version_minor": 0
      },
      "text/plain": [
       "HBox(children=(HTML(value=''), FloatProgress(value=0.0, max=10.0), HTML(value='')))"
      ]
     },
     "metadata": {},
     "output_type": "display_data"
    },
    {
     "name": "stdout",
     "output_type": "stream",
     "text": [
      "\n",
      "alpha = 0.8\n"
     ]
    },
    {
     "data": {
      "application/vnd.jupyter.widget-view+json": {
       "model_id": "1d91de0b9b3648029559d516bc5aef2d",
       "version_major": 2,
       "version_minor": 0
      },
      "text/plain": [
       "HBox(children=(HTML(value=''), FloatProgress(value=0.0, max=10.0), HTML(value='')))"
      ]
     },
     "metadata": {},
     "output_type": "display_data"
    },
    {
     "name": "stdout",
     "output_type": "stream",
     "text": [
      "\n",
      "alpha = 0.9\n"
     ]
    },
    {
     "data": {
      "application/vnd.jupyter.widget-view+json": {
       "model_id": "d2425c2febaf40b683a787ff2f2074d4",
       "version_major": 2,
       "version_minor": 0
      },
      "text/plain": [
       "HBox(children=(HTML(value=''), FloatProgress(value=0.0, max=10.0), HTML(value='')))"
      ]
     },
     "metadata": {},
     "output_type": "display_data"
    },
    {
     "name": "stdout",
     "output_type": "stream",
     "text": [
      "\n",
      "alpha = 1.0\n"
     ]
    },
    {
     "data": {
      "application/vnd.jupyter.widget-view+json": {
       "model_id": "85d106da4bdb4f77a00e5f009b5bb234",
       "version_major": 2,
       "version_minor": 0
      },
      "text/plain": [
       "HBox(children=(HTML(value=''), FloatProgress(value=0.0, max=10.0), HTML(value='')))"
      ]
     },
     "metadata": {},
     "output_type": "display_data"
    },
    {
     "name": "stdout",
     "output_type": "stream",
     "text": [
      "\n"
     ]
    }
   ],
   "source": [
    "# ========================= main ========================================\n",
    "res_Qlearning = []\n",
    "res_Sarsa = []\n",
    "res_ESarsa = []\n",
    "res_int_Qlearning = []\n",
    "res_int_Sarsa = []\n",
    "res_int_ESarsa = []\n",
    "\n",
    "for alpha in CFG.alpha:\n",
    "    print(f'alpha = {alpha}')\n",
    "    reward_Qlearning = np.zeros((CFG.episode))\n",
    "    reward_Sarsa = np.zeros((CFG.episode))\n",
    "    reward_ESarsa = np.zeros((CFG.episode))\n",
    "    reward_int_Qlearning = np.zeros((100))\n",
    "    reward_int_Sarsa = np.zeros((100))\n",
    "    reward_int_ESarsa = np.zeros((100))\n",
    "    for r in trange(CFG.runs):\n",
    "        Sarsa_tmp = []\n",
    "        Qlearning_tmp = []\n",
    "        ESarsa_tmp = []\n",
    "        int_Sarsa_tmp = []\n",
    "        int_Qlearning_tmp = []\n",
    "        int_ESarsa_tmp = []\n",
    "        q_Qlearning = np.zeros((CFG.height, CFG.width, 4))\n",
    "        q_Sarsa = np.zeros((CFG.height, CFG.width, 4))\n",
    "        q_ESarsa = np.zeros((CFG.height, CFG.width, 4))\n",
    "\n",
    "        for ep in range(CFG.episode):\n",
    "            Sarsa_tmp.append(Sarsa(q_Sarsa, alpha))\n",
    "            Qlearning_tmp.append(Qlearning(q_Qlearning, alpha))\n",
    "            ESarsa_tmp.append(ExpectedSarsa(q_ESarsa, alpha))\n",
    "            if (ep < 100):\n",
    "                int_Sarsa_tmp.append(Sarsa_tmp[-1])\n",
    "                int_Qlearning_tmp.append(Qlearning_tmp[-1])\n",
    "                int_ESarsa_tmp.append(ESarsa_tmp[-1])\n",
    "            \n",
    "        reward_Sarsa += Sarsa_tmp\n",
    "        reward_Qlearning += Qlearning_tmp\n",
    "        reward_ESarsa += ESarsa_tmp\n",
    "        reward_int_Qlearning += int_Qlearning_tmp\n",
    "        reward_int_Sarsa += int_Sarsa_tmp\n",
    "        reward_int_ESarsa += int_ESarsa_tmp\n",
    "    reward_Sarsa/= CFG.runs\n",
    "    reward_Qlearning/= CFG.runs\n",
    "    reward_ESarsa/= CFG.runs\n",
    "    reward_int_Sarsa /= CFG.runs\n",
    "    reward_int_ESarsa /= CFG.runs\n",
    "    reward_int_Qlearning /= CFG.runs\n",
    "    res_Qlearning.append(np.mean(reward_Qlearning))\n",
    "    res_Sarsa.append(np.mean(reward_Sarsa))\n",
    "    res_ESarsa.append(np.mean(reward_ESarsa))\n",
    "    res_int_Qlearning.append(np.mean(reward_int_Qlearning))\n",
    "    res_int_Sarsa.append(np.mean(reward_int_Sarsa))\n",
    "    res_int_ESarsa.append(np.mean(reward_int_ESarsa))\n",
    "\n"
   ]
  },
  {
   "cell_type": "code",
   "execution_count": 4,
   "metadata": {},
   "outputs": [
    {
     "data": {
      "image/png": "[encoded data removed]",
      "text/plain": [
       "<Figure size 432x288 with 1 Axes>"
      ]
     },
     "metadata": {
      "needs_background": "light"
     },
     "output_type": "display_data"
    }
   ],
   "source": [
    "plt.plot(CFG.alpha, res_Qlearning, label='Asymptotic Q-Learning')\n",
    "plt.plot(CFG.alpha, res_Sarsa, label='Asymptotic Sarsa')\n",
    "plt.plot(CFG.alpha, res_ESarsa, label = 'Asymptotic Expected Sarsa')\n",
    "plt.plot(CFG.alpha, res_int_Qlearning, label = 'interim Qlearning')\n",
    "plt.plot(CFG.alpha, res_int_Sarsa, label = 'interim Sarsa')\n",
    "plt.plot(CFG.alpha, res_int_ESarsa, label = 'interim Expected Sarsa')\n",
    "plt.xlabel('alpha')\n",
    "plt.ylabel('reward per episode')\n",
    "plt.ylim([-100, 0])\n",
    "plt.legend()\n",
    "plt.savefig('figure_ExpectedSarsa/figure_ExpectedSarsa.png')\n",
    "plt.show()"
   ]
  },
  {
   "cell_type": "code",
   "execution_count": null,
   "metadata": {
    "colab": {
     "background_save": true
    },
    "id": "Vl81F_5xTFvC"
   },
   "outputs": [],
   "source": []
  },
  {
   "cell_type": "code",
   "execution_count": null,
   "metadata": {
    "colab": {
     "background_save": true
    },
    "id": "9Etaz3qxTFvD"
   },
   "outputs": [],
   "source": []
  }
 ],
 "metadata": {
  "colab": {
   "name": "ExpectedSarsa.ipynb",
   "provenance": []
  },
  "kernelspec": {
   "display_name": "Python 3",
   "language": "python",
   "name": "python3"
  },
  "language_info": {
   "codemirror_mode": {
    "name": "ipython",
    "version": 3
   },
   "file_extension": ".py",
   "mimetype": "text/x-python",
   "name": "python",
   "nbconvert_exporter": "python",
   "pygments_lexer": "ipython3",
   "version": "3.8.5"
  },
  "widgets": {
   "application/vnd.jupyter.widget-state+json": {
    "12878d27e673473fb3cb1ef6abff3428": {
     "model_module": "@jupyter-widgets/controls",
     "model_name": "FloatProgressModel",
     "state": {
      "_dom_classes": [],
      "_model_module": "@jupyter-widgets/controls",
      "_model_module_version": "1.5.0",
      "_model_name": "FloatProgressModel",
      "_view_count": null,
      "_view_module": "@jupyter-widgets/controls",
      "_view_module_version": "1.5.0",
      "_view_name": "ProgressView",
      "bar_style": "success",
      "description": "100%",
      "description_tooltip": null,
      "layout": "IPY_MODEL_6da263113d64427cb90f843d3a81136f",
      "max": 100,
      "min": 0,
      "orientation": "horizontal",
      "style": "IPY_MODEL_416ba61de06c4628af34adb2f7cf4d60",
      "value": 100
     }
    },
    "17a9d8bffb6e492c98cfddf9e79ec142": {
     "model_module": "@jupyter-widgets/controls",
     "model_name": "DescriptionStyleModel",
     "state": {
      "_model_module": "@jupyter-widgets/controls",
      "_model_module_version": "1.5.0",
      "_model_name": "DescriptionStyleModel",
      "_view_count": null,
      "_view_module": "@jupyter-widgets/base",
      "_view_module_version": "1.2.0",
      "_view_name": "StyleView",
      "description_width": ""
     }
    },
    "1bcc2dbf62ed49e4890de3028852fac8": {
     "model_module": "@jupyter-widgets/controls",
     "model_name": "HTMLModel",
     "state": {
      "_dom_classes": [],
      "_model_module": "@jupyter-widgets/controls",
      "_model_module_version": "1.5.0",
      "_model_name": "HTMLModel",
      "_view_count": null,
      "_view_module": "@jupyter-widgets/controls",
      "_view_module_version": "1.5.0",
      "_view_name": "HTMLView",
      "description": "",
      "description_tooltip": null,
      "layout": "IPY_MODEL_e53b1b9f42a545879df39f6820cbf4bd",
      "placeholder": "​",
      "style": "IPY_MODEL_17a9d8bffb6e492c98cfddf9e79ec142",
      "value": " 100/100 [3:49:18&lt;00:00, 137.58s/it]"
     }
    },
    "2ac72ed543cd453a8733d872ab24e2e4": {
     "model_module": "@jupyter-widgets/controls",
     "model_name": "HBoxModel",
     "state": {
      "_dom_classes": [],
      "_model_module": "@jupyter-widgets/controls",
      "_model_module_version": "1.5.0",
      "_model_name": "HBoxModel",
      "_view_count": null,
      "_view_module": "@jupyter-widgets/controls",
      "_view_module_version": "1.5.0",
      "_view_name": "HBoxView",
      "box_style": "",
      "children": [
       "IPY_MODEL_12878d27e673473fb3cb1ef6abff3428",
       "IPY_MODEL_1bcc2dbf62ed49e4890de3028852fac8"
      ],
      "layout": "IPY_MODEL_ef6b3cbc71424fe6a2d2e2c48242b92d"
     }
    },
    "416ba61de06c4628af34adb2f7cf4d60": {
     "model_module": "@jupyter-widgets/controls",
     "model_name": "ProgressStyleModel",
     "state": {
      "_model_module": "@jupyter-widgets/controls",
      "_model_module_version": "1.5.0",
      "_model_name": "ProgressStyleModel",
      "_view_count": null,
      "_view_module": "@jupyter-widgets/base",
      "_view_module_version": "1.2.0",
      "_view_name": "StyleView",
      "bar_color": null,
      "description_width": "initial"
     }
    },
    "6da263113d64427cb90f843d3a81136f": {
     "model_module": "@jupyter-widgets/base",
     "model_name": "LayoutModel",
     "state": {
      "_model_module": "@jupyter-widgets/base",
      "_model_module_version": "1.2.0",
      "_model_name": "LayoutModel",
      "_view_count": null,
      "_view_module": "@jupyter-widgets/base",
      "_view_module_version": "1.2.0",
      "_view_name": "LayoutView",
      "align_content": null,
      "align_items": null,
      "align_self": null,
      "border": null,
      "bottom": null,
      "display": null,
      "flex": null,
      "flex_flow": null,
      "grid_area": null,
      "grid_auto_columns": null,
      "grid_auto_flow": null,
      "grid_auto_rows": null,
      "grid_column": null,
      "grid_gap": null,
      "grid_row": null,
      "grid_template_areas": null,
      "grid_template_columns": null,
      "grid_template_rows": null,
      "height": null,
      "justify_content": null,
      "justify_items": null,
      "left": null,
      "margin": null,
      "max_height": null,
      "max_width": null,
      "min_height": null,
      "min_width": null,
      "object_fit": null,
      "object_position": null,
      "order": null,
      "overflow": null,
      "overflow_x": null,
      "overflow_y": null,
      "padding": null,
      "right": null,
      "top": null,
      "visibility": null,
      "width": null
     }
    },
    "e53b1b9f42a545879df39f6820cbf4bd": {
     "model_module": "@jupyter-widgets/base",
     "model_name": "LayoutModel",
     "state": {
      "_model_module": "@jupyter-widgets/base",
      "_model_module_version": "1.2.0",
      "_model_name": "LayoutModel",
      "_view_count": null,
      "_view_module": "@jupyter-widgets/base",
      "_view_module_version": "1.2.0",
      "_view_name": "LayoutView",
      "align_content": null,
      "align_items": null,
      "align_self": null,
      "border": null,
      "bottom": null,
      "display": null,
      "flex": null,
      "flex_flow": null,
      "grid_area": null,
      "grid_auto_columns": null,
      "grid_auto_flow": null,
      "grid_auto_rows": null,
      "grid_column": null,
      "grid_gap": null,
      "grid_row": null,
      "grid_template_areas": null,
      "grid_template_columns": null,
      "grid_template_rows": null,
      "height": null,
      "justify_content": null,
      "justify_items": null,
      "left": null,
      "margin": null,
      "max_height": null,
      "max_width": null,
      "min_height": null,
      "min_width": null,
      "object_fit": null,
      "object_position": null,
      "order": null,
      "overflow": null,
      "overflow_x": null,
      "overflow_y": null,
      "padding": null,
      "right": null,
      "top": null,
      "visibility": null,
      "width": null
     }
    },
    "ef6b3cbc71424fe6a2d2e2c48242b92d": {
     "model_module": "@jupyter-widgets/base",
     "model_name": "LayoutModel",
     "state": {
      "_model_module": "@jupyter-widgets/base",
      "_model_module_version": "1.2.0",
      "_model_name": "LayoutModel",
      "_view_count": null,
      "_view_module": "@jupyter-widgets/base",
      "_view_module_version": "1.2.0",
      "_view_name": "LayoutView",
      "align_content": null,
      "align_items": null,
      "align_self": null,
      "border": null,
      "bottom": null,
      "display": null,
      "flex": null,
      "flex_flow": null,
      "grid_area": null,
      "grid_auto_columns": null,
      "grid_auto_flow": null,
      "grid_auto_rows": null,
      "grid_column": null,
      "grid_gap": null,
      "grid_row": null,
      "grid_template_areas": null,
      "grid_template_columns": null,
      "grid_template_rows": null,
      "height": null,
      "justify_content": null,
      "justify_items": null,
      "left": null,
      "margin": null,
      "max_height": null,
      "max_width": null,
      "min_height": null,
      "min_width": null,
      "object_fit": null,
      "object_position": null,
      "order": null,
      "overflow": null,
      "overflow_x": null,
      "overflow_y": null,
      "padding": null,
      "right": null,
      "top": null,
      "visibility": null,
      "width": null
     }
    }
   }
  }
 },
 "nbformat": 4,
 "nbformat_minor": 1
}
