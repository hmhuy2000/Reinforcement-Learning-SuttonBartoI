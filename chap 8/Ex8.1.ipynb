{
 "cells": [
  {
   "cell_type": "code",
   "execution_count": 1,
   "metadata": {},
   "outputs": [],
   "source": [
    "import numpy as np \n",
    "import matplotlib.pyplot as plt\n",
    "from tqdm import tqdm, trange\n",
    "import seaborn as sns\n",
    "import random"
   ]
  },
  {
   "cell_type": "code",
   "execution_count": 2,
   "metadata": {},
   "outputs": [],
   "source": [
    "class CFG:\n",
    "    height = 6\n",
    "    width = 9\n",
    "    start = [2, 0]\n",
    "    goal  = [0, 8]\n",
    "    action_Up = [-1, 0]\n",
    "    action_Down = [1, 0]\n",
    "    action_Left = [0, -1]\n",
    "    action_Right = [0, 1]\n",
    "    actions = [action_Up, action_Down, action_Left, action_Right]\n",
    "    alpha = 0.1\n",
    "    epsilon = 0.1\n",
    "    episode = 50\n",
    "    n_run = 30\n",
    "    n_plans = [0, 5, 50]\n",
    "    garma = 0.95"
   ]
  },
  {
   "cell_type": "code",
   "execution_count": 3,
   "metadata": {},
   "outputs": [],
   "source": [
    "otc = [(1, 2), (2, 2), (3, 2), (4, 5), (0, 7), (1, 7), (2, 7)]\n",
    "\n",
    "def go(curX, curY, action):\n",
    "    [tmpX, tmpY] = CFG.actions[action]\n",
    "    nextX = max(0, min(curX + tmpX, CFG.height - 1))\n",
    "    nextY = max(0, min(curY + tmpY, CFG.width - 1))\n",
    "    if ((nextX, nextY) in otc):\n",
    "        (nextX, nextY) = (curX, curY)\n",
    "    return (nextX, nextY)\n",
    "\n",
    "def step(curX, curY, action):\n",
    "    (nextX, nextY) = go(curX, curY, action)\n",
    "    if ([nextX, nextY] == CFG.goal):\n",
    "        return ([nextX, nextY], 1, True)\n",
    "#     if ([nextX, nextY] == [curX, curY]):\n",
    "#         return([nextX, nextY], -1, False)\n",
    "    return ([nextX, nextY], 0, False)"
   ]
  },
  {
   "cell_type": "code",
   "execution_count": 4,
   "metadata": {},
   "outputs": [],
   "source": [
    "def dyna_Q(n_plan, n_run = CFG.n_run, episode = CFG.episode):\n",
    "    res = np.zeros((episode))\n",
    "    for r in trange(n_run):\n",
    "        Q = np.random.random((CFG.height, CFG.width, 4))\n",
    "        model = {}\n",
    "        tmp = []\n",
    "        for ep in range(episode):\n",
    "            time = 0\n",
    "            [curX, curY] = CFG.start\n",
    "            while(True):\n",
    "                if (np.random.random()<CFG.epsilon):\n",
    "                    action = np.random.choice(np.arange(4))\n",
    "                else:\n",
    "                    action = np.argmax(Q[curX, curY, :])\n",
    "                (Nstate, reward, done) = step(curX, curY, action)\n",
    "                [nextX, nextY] = Nstate\n",
    "#                 print(ep, (curX, curY), action, (nextX, nextY))\n",
    "                Q[curX, curY, action] += CFG.alpha * (reward + CFG.garma * np.max(Q[nextX, nextY, :]) - Q[curX, curY, action])\n",
    "                model[((curX, curY), action)] = ((nextX, nextY), reward)\n",
    "\n",
    "                for _ in range(n_plan):\n",
    "                    idx = np.random.choice(range(len(model.keys())))\n",
    "                    ((tmpX, tmpY), tmp_action) = list(model.keys())[idx]\n",
    "                    ((tmp_NX, tmp_NY), tmp_reward) = model[((tmpX, tmpY), tmp_action)]\n",
    "                    Q[tmpX, tmpY, tmp_action] += CFG.alpha * (tmp_reward + CFG.garma * np.max(Q[tmp_NX, tmp_NY, :]) - Q[tmpX, tmpY, tmp_action])\n",
    "\n",
    "                time += 1\n",
    "                if (done):\n",
    "                    tmp.append(time)\n",
    "                    break\n",
    "                (curX, curY) = (nextX, nextY)\n",
    "#                 print(Q)\n",
    "            \n",
    "        res += tmp\n",
    "    return res/n_run"
   ]
  },
  {
   "cell_type": "code",
   "execution_count": 5,
   "metadata": {},
   "outputs": [
    {
     "name": "stderr",
     "output_type": "stream",
     "text": [
      "100%|██████████| 30/30 [00:08<00:00,  3.68it/s]\n",
      "100%|██████████| 30/30 [00:28<00:00,  1.05it/s]\n",
      "100%|██████████| 30/30 [02:48<00:00,  5.63s/it]\n"
     ]
    },
    {
     "data": {
      "image/png": "[encoded data removed]",
      "text/plain": [
       "<Figure size 432x288 with 1 Axes>"
      ]
     },
     "metadata": {
      "needs_background": "light"
     },
     "output_type": "display_data"
    }
   ],
   "source": [
    "for n_plan in CFG.n_plans:\n",
    "    plt.plot(dyna_Q(n_plan), label = f'n = {n_plan}')\n",
    "plt.legend()\n",
    "plt.ylim([0, 100])\n",
    "plt.show()"
   ]
  },
  {
   "cell_type": "code",
   "execution_count": null,
   "metadata": {},
   "outputs": [],
   "source": []
  }
 ],
 "metadata": {
  "kernelspec": {
   "display_name": "Python 3",
   "language": "python",
   "name": "python3"
  },
  "language_info": {
   "codemirror_mode": {
    "name": "ipython",
    "version": 3
   },
   "file_extension": ".py",
   "mimetype": "text/x-python",
   "name": "python",
   "nbconvert_exporter": "python",
   "pygments_lexer": "ipython3",
   "version": "3.8.5"
  }
 },
 "nbformat": 4,
 "nbformat_minor": 4
}
